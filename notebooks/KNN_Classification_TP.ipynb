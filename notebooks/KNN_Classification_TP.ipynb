{
 "cells": [
  {
   "cell_type": "code",
   "execution_count": null,
   "id": "fd1bf128-7774-4fc1-905f-19d6c34a1d26",
   "metadata": {},
   "outputs": [],
   "source": [
    "import numpy as np\n",
    "\n",
    "myarray = np.array([[15, 5, 1], [29, 12, 3], [43,33,5], [25,27,4]])\n",
    "\n",
    "print(myarray)\n",
    "\n",
    "print(myarray.mean())\n",
    "\n",
    "print(myarray.max())"
   ]
  },
  {
   "cell_type": "code",
   "execution_count": null,
   "id": "e04e5ba7-a973-44b8-a20b-c2fd02cf0f2f",
   "metadata": {},
   "outputs": [],
   "source": [
    "import pandas as pd\n",
    "ligne_noms = ['ali', 'badr', 'cimon','rachid']\n",
    "colonne_noms = ['age', 'score', 'bonus']\n",
    "data_df = pd.DataFrame(myarray, index=ligne_noms, columns=colonne_noms)"
   ]
  },
  {
   "cell_type": "code",
   "execution_count": null,
   "id": "c2f5d7ad-2c88-4819-be7e-4354d0778495",
   "metadata": {},
   "outputs": [],
   "source": [
    "print(data_df['age'])\n",
    "\n",
    "print(data_df.mean())\n",
    "\n",
    "print(data_df.max())\n",
    "\n",
    "print(data_df.loc[:,'age'])\n",
    "\n",
    "print(data_df.iloc[:,[1,2]])"
   ]
  },
  {
   "cell_type": "code",
   "execution_count": null,
   "id": "df825be8-3468-4c0a-9a46-e7497779c884",
   "metadata": {},
   "outputs": [],
   "source": [
    "import numpy as np\n",
    "import matplotlib.pyplot as plt\n",
    "import pandas as pd\n",
    "\n",
    "# Le Notebook est dans 'notebooks/', les données sont dans 'data/'\n",
    "# ../data/ remonte d'un niveau (de notebooks/) et entre dans le dossier data\n",
    "chemin_relatif = \"../data/Social_Network_Ads.csv\"\n",
    "\n",
    "dataset = pd.read_csv(chemin_relatif)\n",
    "print(dataset.head())"
   ]
  },
  {
   "cell_type": "code",
   "execution_count": null,
   "id": "7a1e2fb7-01e2-4c60-b2af-ec25bf7abec6",
   "metadata": {},
   "outputs": [],
   "source": [
    "from sklearn.preprocessing import LabelEncoder\n",
    "dataset['Gender']= LabelEncoder().fit_transform(dataset['Gender'].astype(str))\n",
    "\n",
    "# Note : Ceci est l'ancien modèle à 2 features\n",
    "X_v1 = dataset.iloc[:, [1, 3]].values\n",
    "Y_v1 = dataset.iloc[:, 4].values"
   ]
  },
  {
   "cell_type": "code",
   "execution_count": null,
   "id": "2982a5a3-bf61-4cd2-afa4-f80ce4f0330c",
   "metadata": {},
   "outputs": [],
   "source": [
    "from sklearn.model_selection import train_test_split\n",
    "# Nous entraînons brièvement le V1 pour suivre le flux du notebook\n",
    "X_train_v1, X_test_v1, y_train_v1, y_test_v1 = train_test_split(X_v1, Y_v1, test_size = 0.25, random_state = 0)"
   ]
  },
  {
   "cell_type": "code",
   "execution_count": null,
   "id": "420e7d82-72a2-4f42-b0e9-09b9ce2e2aad",
   "metadata": {},
   "outputs": [],
   "source": [
    "from sklearn.preprocessing import StandardScaler\n",
    "sc_v1 = StandardScaler()\n",
    "X_train_v1 = sc_v1.fit_transform(X_train_v1)\n",
    "X_test_v1 = sc_v1.transform(X_test_v1)"
   ]
  },
  {
   "cell_type": "code",
   "execution_count": null,
   "id": "6ba65605-b0ed-4b25-ac92-2a4f203de348",
   "metadata": {},
   "outputs": [],
   "source": [
    "from sklearn.neighbors import KNeighborsClassifier\n",
    "classifier_v1 = KNeighborsClassifier()\n",
    "classifier_v1.fit(X_train_v1, y_train_v1)"
   ]
  },
  {
   "cell_type": "code",
   "execution_count": null,
   "id": "e62c4d9d-a2ce-487c-89c3-7832b52ecaf9",
   "metadata": {},
   "outputs": [],
   "source": [
    "y_pred_v1 = classifier_v1.predict(X_test_v1)\n",
    "print(y_pred_v1)"
   ]
  },
  {
   "cell_type": "code",
   "execution_count": null,
   "id": "39b26338-29cc-4e5d-8d9d-fba7ee741d57",
   "metadata": {},
   "outputs": [],
   "source": [
    "c=0\n",
    "accuracy = 0.0 # Initialisation\n",
    "for i in range(0,len(y_pred_v1)):\n",
    "    if(y_pred_v1[i]==y_test_v1[i]):\n",
    "        c=c+1\n",
    "accuracy=c/len(y_pred_v1)\n",
    "print(\"Accuracy (V1 - 2 features) is\")\n",
    "print(accuracy)"
   ]
  },
  {
   "cell_type": "code",
   "execution_count": null,
   "id": "c7568203-0a0d-4ec3-adeb-2abeed024873",
   "metadata": {},
   "outputs": [],
   "source": [
    "from sklearn.metrics import confusion_matrix\n",
    "cm_v1 = confusion_matrix(y_test_v1, y_pred_v1)\n",
    "matrice_conf_v1 = pd.DataFrame(cm_v1,index=['positive','négative'],columns=['positive','negative'])"
   ]
  },
  {
   "cell_type": "markdown",
   "id": "2b6b0c20-72f9-4d8e-9088-825528efed89",
   "metadata": {},
   "source": [
    "## Entraînement du Modèle Final (3 Features)\n",
    "\n",
    "C'est ce modèle (avec 3 features) que nous allons sauvegarder pour l'API, car il a donné de meilleurs résultats."
   ]
  },
  {
   "cell_type": "code",
   "execution_count": null,
   "id": "a225c48d-2751-4b49-bd99-9013f8a0d92b",
   "metadata": {},
   "outputs": [],
   "source": [
    "# Définition de X avec 3 features (Gender, Age, EstimatedSalary)\n",
    "# Indices 1 (Gender), 2 (Age), 3 (EstimatedSalary)\n",
    "X = dataset.iloc[:, [1, 2, 3]].values\n",
    "Y = dataset.iloc[:, 4].values"
   ]
  },
  {
   "cell_type": "code",
   "execution_count": null,
   "id": "a11fd916-1f2b-4f9d-b93e-d2899597a88e",
   "metadata": {},
   "outputs": [],
   "source": [
    "from sklearn.model_selection import train_test_split\n",
    "X_train, X_test, y_train, y_test = train_test_split(X, Y, test_size = 0.25, random_state = 0)"
   ]
  },
  {
   "cell_type": "code",
   "execution_count": null,
   "id": "d043bdee-c77a-4a13-bb25-f575a3f00246",
   "metadata": {},
   "outputs": [],
   "source": [
    "from sklearn.preprocessing import StandardScaler\n",
    "\n",
    "# C'est ce scaler (sc) que nous devons sauvegarder\n",
    "sc = StandardScaler()\n",
    "\n",
    "X_train = sc.fit_transform(X_train)\n",
    "\n",
    "X_test = sc.transform(X_test)"
   ]
  },
  {
   "cell_type": "code",
   "execution_count": null,
   "id": "b8103dde-b83e-453d-96d2-f415afe30e37",
   "metadata": {},
   "outputs": [],
   "source": [
    "from sklearn.neighbors import KNeighborsClassifier\n",
    "\n",
    "# C'est ce classifieur (classifier) que nous devons sauvegarder\n",
    "classifier = KNeighborsClassifier()\n",
    "classifier.fit(X_train, y_train)"
   ]
  },
  {
   "cell_type": "code",
   "execution_count": null,
   "id": "26091099-be13-4bc1-932d-58b8dfc89b2d",
   "metadata": {},
   "outputs": [],
   "source": [
    "import joblib \n",
    "\n",
    "# MODIFIÉ : Sauvegarder les modèles dans le dossier 'models/' (remonter d'un niveau)\n",
    "joblib.dump(classifier, '../models/knn_model.pkl')\n",
    "\n",
    "joblib.dump(sc, '../models/scaler.pkl')\n",
    "\n",
    "print(\"Modèles sauvegardés dans le dossier ../models/\")"
   ]
  },
  {
   "cell_type": "code",
   "execution_count": null,
   "id": "f273452c-dc33-4c37-88ff-f662d2ade678",
   "metadata": {},
   "outputs": [],
   "source": [
    "y_pred = classifier.predict(X_test)\n",
    "print(y_pred)"
   ]
  },
  {
   "cell_type": "code",
   "execution_count": null,
   "id": "b52c2635-2ff7-41c5-a3e2-fb1c94bc68ed",
   "metadata": {},
   "outputs": [],
   "source": [
    "c=0\n",
    "accuracy = 0.0 # Initialisation\n",
    "for i in range(0,len(y_pred)):\n",
    "    if(y_pred[i]==y_test[i]):\n",
    "        c=c+1\n",
    "accuracy=c/len(y_pred)\n",
    "print(\"Accuracy (V2 - 3 features) is\")\n",
    "print(accuracy)"
   ]
  },
  {
   "cell_type": "code",
   "execution_count": null,
   "id": "f058cd0f-defe-4896-b4a4-bf1931eda763",
   "metadata": {},
   "outputs": [],
   "source": [
    "from sklearn.metrics import confusion_matrix\n",
    "cm = confusion_matrix(y_test, y_pred)\n",
    "matrice_conf=pd.DataFrame(cm,index=['positive','négative'],columns=['positive','negative'])\n",
    "print(matrice_conf)"
   ]
  },
  {
   "cell_type": "code",
   "execution_count": null,
   "id": "ee740709-7c60-4780-aa19-532687837a08",
   "metadata": {},
   "outputs": [],
   "source": []
  }
 ],
 "metadata": {
  "kernelspec": {
   "display_name": "Python [conda env:base] *",
   "language": "python",
   "name": "conda-base-py"
  },
  "language_info": {
   "codemirror_mode": {
    "name": "ipython",
    "version": 3
   },
   "file_extension": ".py",
   "mimetype": "text/x-python",
   "name": "python",
   "nbconvert_exporter": "python",
   "pygments_lexer": "ipython3",
   "version": "3.13.5"
  }
 },
 "nbformat": 4,
 "nbformat_minor": 5
}